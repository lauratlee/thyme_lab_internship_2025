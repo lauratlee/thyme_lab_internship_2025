{
 "cells": [
  {
   "cell_type": "code",
   "execution_count": null,
   "id": "5345f9f4",
   "metadata": {},
   "outputs": [],
   "source": [
    "# create hgnc_symbols.csv\n",
    "\n",
    "import json\n",
    "import csv\n",
    "\n",
    "symbols = []\n",
    "\n",
    "with open('hgnc_all.json', 'r') as f:\n",
    "    data = json.load(f)  # Load the entire file as a list\n",
    "\n",
    "for obj in data:\n",
    "    symbols.append(obj['approvedSymbol'])\n",
    "\n",
    "with open('hgnc_symbols_all.csv', 'w', newline='') as csvfile:\n",
    "    writer = csv.writer(csvfile)\n",
    "    writer.writerow(['approvedSymbol'])  # header\n",
    "    for symbol in symbols:\n",
    "        writer.writerow([symbol])"
   ]
  },
  {
   "cell_type": "code",
   "execution_count": null,
   "id": "14726ac5",
   "metadata": {},
   "outputs": [],
   "source": [
    "# filter out olfaction + taste hgnc symbols\n",
    "\n",
    "import pandas as pd\n",
    "\n",
    "# Read the original CSV\n",
    "df = pd.read_csv('hgnc_symbols.csv')\n",
    "\n",
    "# Filter out rows where 'approvedSymbol' starts with 'OR' or 'TAS'\n",
    "df = df[~df['approvedSymbol'].str.startswith(('OR', 'TAS'))]\n",
    "\n",
    "# Overwrite the original CSV with the filtered data\n",
    "df.to_csv('hgnc_symbols.csv', index=False)"
   ]
  },
  {
   "cell_type": "code",
   "execution_count": null,
   "id": "d1869ba8",
   "metadata": {},
   "outputs": [],
   "source": [
    "# write human orthos txt to csv file\n",
    "\n",
    "import pandas as pd\n",
    "\n",
    "rows = []\n",
    "with open('human_orthos_2025.05.16.txt') as f:\n",
    "    for i, line in enumerate(f, 1):\n",
    "        if i < 3:\n",
    "            continue  # skip the first line\n",
    "        fields = line.rstrip('\\n').split('\\t')\n",
    "        if len(fields) == 13:\n",
    "            rows.append(fields) \n",
    "\n",
    "columns = [\n",
    "    'ZFIN ID', 'ZFIN Symbol', 'ZFIN Name', 'Human Symbol', 'Human Name', 'OMIM ID', 'Gene ID', 'HGNC ID',\n",
    "    'Evidence', 'Pub ID', 'ZFIN Abbreviation Name', 'ECO ID', 'ECO Term Name'\n",
    "]\n",
    "\n",
    "df = pd.DataFrame(rows, columns=columns)\n",
    "df.to_csv('human_orthos.csv', index=False)"
   ]
  },
  {
   "cell_type": "code",
   "execution_count": 5,
   "id": "38e84bb6",
   "metadata": {},
   "outputs": [],
   "source": [
    "# create list of ALL human matches (including duplicates)\n",
    "\n",
    "import pandas as pd\n",
    "\n",
    "# Read the list of symbols\n",
    "hgnc_df = pd.read_csv('hgnc_symbols.csv')\n",
    "symbols = hgnc_df['approvedSymbol'].tolist()\n",
    "\n",
    "# Read the human orthologs table\n",
    "orthos_df = pd.read_csv('human_orthos.csv')\n",
    "\n",
    "# Filter rows where 'Human Symbol' matches any symbol in the list\n",
    "filtered = orthos_df[orthos_df['Human Symbol'].isin(symbols)]\n",
    "\n",
    "# Select only the desired columns\n",
    "result = filtered[['Human Symbol', 'ZFIN ID', 'ZFIN Symbol', 'Pub ID']]\n",
    "\n",
    "# Remove results with identical ZFIN IDs\n",
    "result_unique = result.drop_duplicates(subset=['ZFIN Symbol'])\n",
    "\n",
    "# Save to CSV\n",
    "result_unique.to_csv('matched_human_orthos.csv', index=False)"
   ]
  },
  {
   "cell_type": "code",
   "execution_count": 7,
   "id": "2b6eb12b",
   "metadata": {},
   "outputs": [],
   "source": [
    "# sort matched_human_orthos.csv into matched_human_orthos_unique.csv and matched_human_orthos_dupes.csv\n",
    "\n",
    "import pandas as pd\n",
    "\n",
    "# Read the matched human orthos file\n",
    "df = pd.read_csv('matched_human_orthos.csv')\n",
    "\n",
    "# Count occurrences of each ZFIN Symbol\n",
    "counts = df['Human Symbol'].value_counts()\n",
    "idxs_unique = counts[counts == 1].index\n",
    "idxs_dupes = counts[counts > 1].index\n",
    "\n",
    "# Filter entries\n",
    "unique = df[df['Human Symbol'].isin(idxs_unique)]\n",
    "dupes = df[df['Human Symbol'].isin(idxs_dupes)]\n",
    "\n",
    "\n",
    "# Save to CSV\n",
    "unique.to_csv('matched_human_orthos_unique.csv', index=False)\n",
    "dupes.to_csv('matched_human_orthos_dupes.csv', index=False)"
   ]
  },
  {
   "cell_type": "code",
   "execution_count": null,
   "id": "3a26ef52",
   "metadata": {},
   "outputs": [],
   "source": [
    "# create unmatched_human_orthos.csv, which contains any HGNC symbols that were not matched\n",
    "import pandas as pd\n",
    "\n",
    "# Read the list of symbols\n",
    "hgnc_df = pd.read_csv('hgnc_symbols.csv')\n",
    "symbols = hgnc_df['approvedSymbol'].tolist()\n",
    "\n",
    "# Read the human orthologs table\n",
    "orthos_df = pd.read_csv('human_orthos.csv')\n",
    "\n",
    "# Find symbols not present in the Human Symbol column\n",
    "not_matched = [s for s in symbols if s not in orthos_df['Human Symbol'].values]\n",
    "\n",
    "pd.DataFrame({'HGNC_symbol': not_matched}).to_csv('unmatched_human_orthos.csv', index=False)"
   ]
  },
  {
   "cell_type": "code",
   "execution_count": 16,
   "id": "9b9b4824",
   "metadata": {},
   "outputs": [
    {
     "name": "stdout",
     "output_type": "stream",
     "text": [
      "Number of unique HGNC symbols: 158\n",
      "Number of duplicate HGNC symbols: 115\n",
      "Number of unmatched HGNC symbols: 225\n"
     ]
    }
   ],
   "source": [
    "# calculate numbers of distinct genes (to be added manually to csvs)\n",
    "\n",
    "import pandas as pd\n",
    "\n",
    "df_unique = pd.read_csv('matched_human_orthos_unique.csv')\n",
    "unique_count = len(df_unique['Human Symbol'])\n",
    "print(f\"Number of unique HGNC symbols: {unique_count}\")\n",
    "\n",
    "df_dupes = pd.read_csv('matched_human_orthos_dupes.csv')\n",
    "dupes_count = df_dupes['Human Symbol'].nunique()\n",
    "print(f\"Number of duplicate HGNC symbols: {dupes_count}\")\n",
    "\n",
    "df_unmatched = pd.read_csv('unmatched_human_orthos.csv')\n",
    "unmatched_count = len(df_unmatched['HGNC_symbol'])\n",
    "print(f\"Number of unmatched HGNC symbols: {unmatched_count}\")"
   ]
  }
 ],
 "metadata": {
  "kernelspec": {
   "display_name": "base",
   "language": "python",
   "name": "python3"
  },
  "language_info": {
   "codemirror_mode": {
    "name": "ipython",
    "version": 3
   },
   "file_extension": ".py",
   "mimetype": "text/x-python",
   "name": "python",
   "nbconvert_exporter": "python",
   "pygments_lexer": "ipython3",
   "version": "3.11.7"
  }
 },
 "nbformat": 4,
 "nbformat_minor": 5
}
